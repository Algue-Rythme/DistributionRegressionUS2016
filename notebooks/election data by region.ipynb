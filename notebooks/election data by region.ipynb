{
 "cells": [
  {
   "cell_type": "code",
   "execution_count": 1,
   "metadata": {
    "collapsed": true
   },
   "outputs": [],
   "source": [
    "from __future__ import division, print_function\n",
    "%matplotlib inline"
   ]
  },
  {
   "cell_type": "code",
   "execution_count": 2,
   "metadata": {
    "collapsed": true
   },
   "outputs": [],
   "source": [
    "import numpy as np\n",
    "import pandas as pd\n",
    "import re\n",
    "import six"
   ]
  },
  {
   "cell_type": "code",
   "execution_count": 3,
   "metadata": {
    "collapsed": true
   },
   "outputs": [],
   "source": [
    "from IPython.display import display"
   ]
  },
  {
   "cell_type": "code",
   "execution_count": 4,
   "metadata": {
    "collapsed": true
   },
   "outputs": [],
   "source": [
    "import sys\n",
    "sys.path.append('..')"
   ]
  },
  {
   "cell_type": "code",
   "execution_count": 5,
   "metadata": {
    "collapsed": true
   },
   "outputs": [],
   "source": [
    "from pummeler.data import geocode_data"
   ]
  },
  {
   "cell_type": "code",
   "execution_count": 6,
   "metadata": {
    "collapsed": false
   },
   "outputs": [],
   "source": [
    "county_to_region = geocode_data('county_region_00').region.to_dict()"
   ]
  },
  {
   "cell_type": "markdown",
   "metadata": {},
   "source": [
    "### Map electoral results to regions"
   ]
  },
  {
   "cell_type": "code",
   "execution_count": 7,
   "metadata": {
    "collapsed": true
   },
   "outputs": [],
   "source": [
    "from glob import glob"
   ]
  },
  {
   "cell_type": "markdown",
   "metadata": {},
   "source": [
    "First, handle Alaska specially:"
   ]
  },
  {
   "cell_type": "code",
   "execution_count": 8,
   "metadata": {
    "collapsed": false
   },
   "outputs": [],
   "source": [
    "assert len({v for k, v in county_to_region.iteritems() if k.startswith('02')}) == 1"
   ]
  },
  {
   "cell_type": "code",
   "execution_count": 9,
   "metadata": {
    "collapsed": false
   },
   "outputs": [],
   "source": [
    "ak_precincts = pd.read_csv('../../election-2012-results/data/ak_precincts.csv')"
   ]
  },
  {
   "cell_type": "code",
   "execution_count": 10,
   "metadata": {
    "collapsed": false
   },
   "outputs": [],
   "source": [
    "ak = ak_precincts.groupby(ak_precincts.candidate).sum().reset_index()\n",
    "ak['state'] = 'ak'\n",
    "ak['fips'] = next(k for k in county_to_region if k.startswith('02'))\n",
    "ak['county'] = 'All of Alaska'"
   ]
  },
  {
   "cell_type": "code",
   "execution_count": 11,
   "metadata": {
    "collapsed": false
   },
   "outputs": [
    {
     "data": {
      "text/html": [
       "<div>\n",
       "<table border=\"1\" class=\"dataframe\">\n",
       "  <thead>\n",
       "    <tr style=\"text-align: right;\">\n",
       "      <th></th>\n",
       "      <th>candidate</th>\n",
       "      <th>votes</th>\n",
       "      <th>state</th>\n",
       "      <th>fips</th>\n",
       "      <th>county</th>\n",
       "    </tr>\n",
       "  </thead>\n",
       "  <tbody>\n",
       "    <tr>\n",
       "      <th>0</th>\n",
       "      <td>Johnson</td>\n",
       "      <td>7392</td>\n",
       "      <td>ak</td>\n",
       "      <td>02100</td>\n",
       "      <td>All of Alaska</td>\n",
       "    </tr>\n",
       "    <tr>\n",
       "      <th>1</th>\n",
       "      <td>Obama</td>\n",
       "      <td>122640</td>\n",
       "      <td>ak</td>\n",
       "      <td>02100</td>\n",
       "      <td>All of Alaska</td>\n",
       "    </tr>\n",
       "    <tr>\n",
       "      <th>2</th>\n",
       "      <td>Romney</td>\n",
       "      <td>164676</td>\n",
       "      <td>ak</td>\n",
       "      <td>02100</td>\n",
       "      <td>All of Alaska</td>\n",
       "    </tr>\n",
       "    <tr>\n",
       "      <th>3</th>\n",
       "      <td>Stein</td>\n",
       "      <td>2917</td>\n",
       "      <td>ak</td>\n",
       "      <td>02100</td>\n",
       "      <td>All of Alaska</td>\n",
       "    </tr>\n",
       "    <tr>\n",
       "      <th>4</th>\n",
       "      <td>Write-In</td>\n",
       "      <td>2870</td>\n",
       "      <td>ak</td>\n",
       "      <td>02100</td>\n",
       "      <td>All of Alaska</td>\n",
       "    </tr>\n",
       "  </tbody>\n",
       "</table>\n",
       "</div>"
      ],
      "text/plain": [
       "  candidate   votes state   fips         county\n",
       "0   Johnson    7392    ak  02100  All of Alaska\n",
       "1     Obama  122640    ak  02100  All of Alaska\n",
       "2    Romney  164676    ak  02100  All of Alaska\n",
       "3     Stein    2917    ak  02100  All of Alaska\n",
       "4  Write-In    2870    ak  02100  All of Alaska"
      ]
     },
     "execution_count": 11,
     "metadata": {},
     "output_type": "execute_result"
    }
   ],
   "source": [
    "ak"
   ]
  },
  {
   "cell_type": "code",
   "execution_count": 12,
   "metadata": {
    "collapsed": false
   },
   "outputs": [],
   "source": [
    "bits = [ak]\n",
    "for f in glob('../../election-2012-results/data/??.csv'):\n",
    "    piece = pd.read_csv(f, dtype={'fips': str})\n",
    "    piece['state'] = f[-6:-4]\n",
    "    bits.append(piece)\n",
    "election = pd.concat(bits)"
   ]
  },
  {
   "cell_type": "markdown",
   "metadata": {},
   "source": [
    "#### Normalize candidate names"
   ]
  },
  {
   "cell_type": "code",
   "execution_count": 13,
   "metadata": {
    "collapsed": false
   },
   "outputs": [],
   "source": [
    "reps = {\n",
    "    'goode': 'virgil goode',\n",
    "    'obama': 'barack obama',\n",
    "    'johnson': 'gary johnson',\n",
    "    'romney': 'mitt romney',\n",
    "    'stein': 'jill stein',\n",
    "    'virgil h. goode': 'virgil goode',\n",
    "    'virgil h. goode jr.': 'virgil goode',\n",
    "    'gary e. johnson': 'gary johnson',\n",
    "    'write in': 'write-in',\n",
    "    'write-ins': 'write-in',\n",
    "    'hoefling': 'tom hoefling',\n",
    "    'obama barack': 'barack obama',\n",
    "    'stein jill': 'jill stein',\n",
    "    'romney mitt': 'mitt romney',\n",
    "    'johnson gary': 'gary johnson',\n",
    "    'jill stein write-in': 'jill stein',\n",
    "    'hoefling (write-in)': 'tom hoefling',\n",
    "    'tom hoeffling': 'tom hoefling',\n",
    "    'alexander': 'stewart alexander',\n",
    "    'ross c. &quot;rocky&quot;': 'ross c. \"rocky\"',\n",
    "    'ross c. rocky': 'ross c. \"rocky\"',\n",
    "    'ross c.': 'ross c. \"rocky\"',\n",
    "    'rocky': 'ross c. \"rocky\"',\n",
    "    'paul': 'ron paul',\n",
    "    'ron paul write-in': 'ron paul',\n",
    "    'write-in**': 'write-in',\n",
    "    'clymer': 'james clymer',\n",
    "    'roth': 'cecil james roth',\n",
    "    'prokopich': 'barbara prokopich',\n",
    "    'barbara a. prokopich': 'barbara prokopich',\n",
    "    'kevin m. thorne': 'kevin thorne',\n",
    "    'thorne': 'kevin thorne',\n",
    "}\n",
    "def rewrite(s):\n",
    "    s = s.lower()\n",
    "    for x in ['/', ',', '(', ' and', ' for president']:\n",
    "        p = s.find(x)\n",
    "        if p != -1:\n",
    "            s = s[:p]\n",
    "    s = s.strip().replace('  ', ' ')\n",
    "    s = reps.get(s, s)\n",
    "    return s\n",
    "election['cand'] = election.candidate.apply(rewrite)"
   ]
  },
  {
   "cell_type": "code",
   "execution_count": 14,
   "metadata": {
    "collapsed": false
   },
   "outputs": [],
   "source": [
    "cand_votes = election.groupby(election.cand).votes.sum().sort_values(ascending=False)"
   ]
  },
  {
   "cell_type": "code",
   "execution_count": 15,
   "metadata": {
    "collapsed": false
   },
   "outputs": [
    {
     "data": {
      "text/plain": [
       "cand\n",
       "barack obama       65915527\n",
       "mitt romney        60936445\n",
       "gary johnson        1275791\n",
       "jill stein           466587\n",
       "virgil goode         114400\n",
       "write-in              60128\n",
       "roseanne barr         59051\n",
       "thomas hoefling       38372\n",
       "ron paul              24870\n",
       "ross c. \"rocky\"       23737\n",
       "Name: votes, dtype: int64"
      ]
     },
     "execution_count": 15,
     "metadata": {},
     "output_type": "execute_result"
    }
   ],
   "source": [
    "cand_votes.head(10)"
   ]
  },
  {
   "cell_type": "code",
   "execution_count": 16,
   "metadata": {
    "collapsed": false
   },
   "outputs": [],
   "source": [
    "election['party'] = 'oth'\n",
    "election.loc[election.cand == 'barack obama', 'party'] = 'D'\n",
    "election.loc[election.cand == 'mitt romney', 'party'] = 'R'\n",
    "election.loc[election.cand == 'gary johnson', 'party'] = 'L'\n",
    "election.loc[election.cand == 'jill stein', 'party'] = 'G'"
   ]
  },
  {
   "cell_type": "code",
   "execution_count": 17,
   "metadata": {
    "collapsed": false
   },
   "outputs": [
    {
     "data": {
      "text/plain": [
       "party\n",
       "D      65915527\n",
       "G        466587\n",
       "L       1275791\n",
       "R      60936445\n",
       "oth      497625\n",
       "Name: votes, dtype: int64"
      ]
     },
     "execution_count": 17,
     "metadata": {},
     "output_type": "execute_result"
    }
   ],
   "source": [
    "election.groupby(election.party).votes.sum()"
   ]
  },
  {
   "cell_type": "markdown",
   "metadata": {},
   "source": [
    "#### Make sure that the FIPS codes are lining up reasonably"
   ]
  },
  {
   "cell_type": "code",
   "execution_count": 18,
   "metadata": {
    "collapsed": false
   },
   "outputs": [
    {
     "data": {
      "text/plain": [
       "{nan}"
      ]
     },
     "execution_count": 18,
     "metadata": {},
     "output_type": "execute_result"
    }
   ],
   "source": [
    "set(election.fips) - set(county_to_region)"
   ]
  },
  {
   "cell_type": "code",
   "execution_count": 19,
   "metadata": {
    "collapsed": false
   },
   "outputs": [
    {
     "data": {
      "text/html": [
       "<div>\n",
       "<table border=\"1\" class=\"dataframe\">\n",
       "  <thead>\n",
       "    <tr style=\"text-align: right;\">\n",
       "      <th></th>\n",
       "      <th>candidate</th>\n",
       "      <th>county</th>\n",
       "      <th>fips</th>\n",
       "      <th>state</th>\n",
       "      <th>votes</th>\n",
       "      <th>cand</th>\n",
       "      <th>party</th>\n",
       "    </tr>\n",
       "  </thead>\n",
       "  <tbody>\n",
       "    <tr>\n",
       "      <th>16</th>\n",
       "      <td>Obama</td>\n",
       "      <td>Overseas</td>\n",
       "      <td>NaN</td>\n",
       "      <td>hi</td>\n",
       "      <td>392</td>\n",
       "      <td>barack obama</td>\n",
       "      <td>D</td>\n",
       "    </tr>\n",
       "    <tr>\n",
       "      <th>17</th>\n",
       "      <td>Romney</td>\n",
       "      <td>Overseas</td>\n",
       "      <td>NaN</td>\n",
       "      <td>hi</td>\n",
       "      <td>78</td>\n",
       "      <td>mitt romney</td>\n",
       "      <td>R</td>\n",
       "    </tr>\n",
       "    <tr>\n",
       "      <th>18</th>\n",
       "      <td>Johnson</td>\n",
       "      <td>Overseas</td>\n",
       "      <td>NaN</td>\n",
       "      <td>hi</td>\n",
       "      <td>2</td>\n",
       "      <td>gary johnson</td>\n",
       "      <td>L</td>\n",
       "    </tr>\n",
       "    <tr>\n",
       "      <th>19</th>\n",
       "      <td>Stein</td>\n",
       "      <td>Overseas</td>\n",
       "      <td>NaN</td>\n",
       "      <td>hi</td>\n",
       "      <td>4</td>\n",
       "      <td>jill stein</td>\n",
       "      <td>G</td>\n",
       "    </tr>\n",
       "    <tr>\n",
       "      <th>128</th>\n",
       "      <td>Johnson, Gary E.</td>\n",
       "      <td>STATE UOCAVA</td>\n",
       "      <td>NaN</td>\n",
       "      <td>me</td>\n",
       "      <td>58</td>\n",
       "      <td>gary johnson</td>\n",
       "      <td>L</td>\n",
       "    </tr>\n",
       "    <tr>\n",
       "      <th>129</th>\n",
       "      <td>Obama, Barack</td>\n",
       "      <td>STATE UOCAVA</td>\n",
       "      <td>NaN</td>\n",
       "      <td>me</td>\n",
       "      <td>2071</td>\n",
       "      <td>barack obama</td>\n",
       "      <td>D</td>\n",
       "    </tr>\n",
       "    <tr>\n",
       "      <th>130</th>\n",
       "      <td>Romney, Mitt</td>\n",
       "      <td>STATE UOCAVA</td>\n",
       "      <td>NaN</td>\n",
       "      <td>me</td>\n",
       "      <td>858</td>\n",
       "      <td>mitt romney</td>\n",
       "      <td>R</td>\n",
       "    </tr>\n",
       "    <tr>\n",
       "      <th>131</th>\n",
       "      <td>Stein, Jill</td>\n",
       "      <td>STATE UOCAVA</td>\n",
       "      <td>NaN</td>\n",
       "      <td>me</td>\n",
       "      <td>51</td>\n",
       "      <td>jill stein</td>\n",
       "      <td>G</td>\n",
       "    </tr>\n",
       "    <tr>\n",
       "      <th>132</th>\n",
       "      <td>Anderson, Ross C.</td>\n",
       "      <td>STATE UOCAVA</td>\n",
       "      <td>NaN</td>\n",
       "      <td>me</td>\n",
       "      <td>2</td>\n",
       "      <td>anderson</td>\n",
       "      <td>oth</td>\n",
       "    </tr>\n",
       "    <tr>\n",
       "      <th>133</th>\n",
       "      <td>Paul, Ronald E.</td>\n",
       "      <td>STATE UOCAVA</td>\n",
       "      <td>NaN</td>\n",
       "      <td>me</td>\n",
       "      <td>14</td>\n",
       "      <td>ron paul</td>\n",
       "      <td>oth</td>\n",
       "    </tr>\n",
       "    <tr>\n",
       "      <th>134</th>\n",
       "      <td>Reed, Jill Ann</td>\n",
       "      <td>STATE UOCAVA</td>\n",
       "      <td>NaN</td>\n",
       "      <td>me</td>\n",
       "      <td>0</td>\n",
       "      <td>reed</td>\n",
       "      <td>oth</td>\n",
       "    </tr>\n",
       "    <tr>\n",
       "      <th>135</th>\n",
       "      <td>BLANK</td>\n",
       "      <td>STATE UOCAVA</td>\n",
       "      <td>NaN</td>\n",
       "      <td>me</td>\n",
       "      <td>13</td>\n",
       "      <td>blank</td>\n",
       "      <td>oth</td>\n",
       "    </tr>\n",
       "  </tbody>\n",
       "</table>\n",
       "</div>"
      ],
      "text/plain": [
       "             candidate        county fips state  votes          cand party\n",
       "16               Obama      Overseas  NaN    hi    392  barack obama     D\n",
       "17              Romney      Overseas  NaN    hi     78   mitt romney     R\n",
       "18             Johnson      Overseas  NaN    hi      2  gary johnson     L\n",
       "19               Stein      Overseas  NaN    hi      4    jill stein     G\n",
       "128   Johnson, Gary E.  STATE UOCAVA  NaN    me     58  gary johnson     L\n",
       "129      Obama, Barack  STATE UOCAVA  NaN    me   2071  barack obama     D\n",
       "130       Romney, Mitt  STATE UOCAVA  NaN    me    858   mitt romney     R\n",
       "131        Stein, Jill  STATE UOCAVA  NaN    me     51    jill stein     G\n",
       "132  Anderson, Ross C.  STATE UOCAVA  NaN    me      2      anderson   oth\n",
       "133    Paul, Ronald E.  STATE UOCAVA  NaN    me     14      ron paul   oth\n",
       "134     Reed, Jill Ann  STATE UOCAVA  NaN    me      0          reed   oth\n",
       "135              BLANK  STATE UOCAVA  NaN    me     13         blank   oth"
      ]
     },
     "execution_count": 19,
     "metadata": {},
     "output_type": "execute_result"
    }
   ],
   "source": [
    "election[pd.isnull(election.fips)]"
   ]
  },
  {
   "cell_type": "markdown",
   "metadata": {},
   "source": [
    "UOCAVA = The Uniformed and Overseas Citizens Absentee Voting Act. Ignore these."
   ]
  },
  {
   "cell_type": "code",
   "execution_count": 20,
   "metadata": {
    "collapsed": false
   },
   "outputs": [
    {
     "data": {
      "text/plain": [
       "{'15005'}"
      ]
     },
     "execution_count": 20,
     "metadata": {},
     "output_type": "execute_result"
    }
   ],
   "source": [
    "{fips for fips in set(county_to_region) - set(election.fips)\n",
    " if not fips.startswith('02')}"
   ]
  },
  {
   "cell_type": "markdown",
   "metadata": {},
   "source": [
    "15005 is [Kalawao County, Hawaii](https://en.wikipedia.org/wiki/Kalawao_County,_Hawaii), which has a population of 89 and is accessible only by mule trail. Its votes [are counted under Maui](http://uselectionatlas.org/FORUM/index.php?topic=175623.0) (15009), and they're in the same PUMA anyway:"
   ]
  },
  {
   "cell_type": "code",
   "execution_count": 21,
   "metadata": {
    "collapsed": false
   },
   "outputs": [
    {
     "data": {
      "text/plain": [
       "True"
      ]
     },
     "execution_count": 21,
     "metadata": {},
     "output_type": "execute_result"
    }
   ],
   "source": [
    "county_to_region['15005'] == county_to_region['15009']"
   ]
  },
  {
   "cell_type": "markdown",
   "metadata": {},
   "source": [
    "#### Do the actual grouping"
   ]
  },
  {
   "cell_type": "code",
   "execution_count": 22,
   "metadata": {
    "collapsed": false
   },
   "outputs": [],
   "source": [
    "election_region = election.groupby(election.fips.map(county_to_region)) \\\n",
    "                          .apply(lambda x: x.votes.groupby(x.party).sum()).unstack()"
   ]
  },
  {
   "cell_type": "code",
   "execution_count": 23,
   "metadata": {
    "collapsed": false
   },
   "outputs": [],
   "source": [
    "election_region.index.name = 'region'\n",
    "election_region.columns = ['votes_{}'.format(p) for p in election_region.columns]"
   ]
  },
  {
   "cell_type": "code",
   "execution_count": 24,
   "metadata": {
    "collapsed": false
   },
   "outputs": [],
   "source": [
    "election_region.fillna(0, inplace=True)\n",
    "election_region = election_region.astype('int')"
   ]
  },
  {
   "cell_type": "code",
   "execution_count": 25,
   "metadata": {
    "collapsed": false
   },
   "outputs": [
    {
     "data": {
      "text/html": [
       "<div>\n",
       "<table border=\"1\" class=\"dataframe\">\n",
       "  <thead>\n",
       "    <tr style=\"text-align: right;\">\n",
       "      <th></th>\n",
       "      <th>votes_D</th>\n",
       "      <th>votes_G</th>\n",
       "      <th>votes_L</th>\n",
       "      <th>votes_R</th>\n",
       "      <th>votes_oth</th>\n",
       "    </tr>\n",
       "    <tr>\n",
       "      <th>region</th>\n",
       "      <th></th>\n",
       "      <th></th>\n",
       "      <th></th>\n",
       "      <th></th>\n",
       "      <th></th>\n",
       "    </tr>\n",
       "  </thead>\n",
       "  <tbody>\n",
       "    <tr>\n",
       "      <th>AK_00_01</th>\n",
       "      <td>122640</td>\n",
       "      <td>2917</td>\n",
       "      <td>7392</td>\n",
       "      <td>164676</td>\n",
       "      <td>2870</td>\n",
       "    </tr>\n",
       "    <tr>\n",
       "      <th>AL_00_01</th>\n",
       "      <td>18424</td>\n",
       "      <td>169</td>\n",
       "      <td>607</td>\n",
       "      <td>66016</td>\n",
       "      <td>275</td>\n",
       "    </tr>\n",
       "    <tr>\n",
       "      <th>AL_00_02</th>\n",
       "      <td>75150</td>\n",
       "      <td>116</td>\n",
       "      <td>301</td>\n",
       "      <td>62561</td>\n",
       "      <td>227</td>\n",
       "    </tr>\n",
       "    <tr>\n",
       "      <th>AL_00_03</th>\n",
       "      <td>15328</td>\n",
       "      <td>175</td>\n",
       "      <td>536</td>\n",
       "      <td>71439</td>\n",
       "      <td>402</td>\n",
       "    </tr>\n",
       "    <tr>\n",
       "      <th>AL_00_04</th>\n",
       "      <td>37374</td>\n",
       "      <td>211</td>\n",
       "      <td>631</td>\n",
       "      <td>74343</td>\n",
       "      <td>432</td>\n",
       "    </tr>\n",
       "  </tbody>\n",
       "</table>\n",
       "</div>"
      ],
      "text/plain": [
       "          votes_D  votes_G  votes_L  votes_R  votes_oth\n",
       "region                                                 \n",
       "AK_00_01   122640     2917     7392   164676       2870\n",
       "AL_00_01    18424      169      607    66016        275\n",
       "AL_00_02    75150      116      301    62561        227\n",
       "AL_00_03    15328      175      536    71439        402\n",
       "AL_00_04    37374      211      631    74343        432"
      ]
     },
     "execution_count": 25,
     "metadata": {},
     "output_type": "execute_result"
    }
   ],
   "source": [
    "election_region.head()"
   ]
  },
  {
   "cell_type": "code",
   "execution_count": 26,
   "metadata": {
    "collapsed": true
   },
   "outputs": [],
   "source": [
    "election_region.to_csv('2012-by-region.csv.gz', compression='gzip')"
   ]
  }
 ],
 "metadata": {
  "kernelspec": {
   "display_name": "Python 2",
   "language": "python",
   "name": "python2"
  },
  "language_info": {
   "codemirror_mode": {
    "name": "ipython",
    "version": 2
   },
   "file_extension": ".py",
   "mimetype": "text/x-python",
   "name": "python",
   "nbconvert_exporter": "python",
   "pygments_lexer": "ipython2",
   "version": "2.7.12"
  }
 },
 "nbformat": 4,
 "nbformat_minor": 0
}
