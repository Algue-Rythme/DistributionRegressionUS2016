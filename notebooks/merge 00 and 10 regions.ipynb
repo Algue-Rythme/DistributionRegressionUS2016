{
 "cells": [
  {
   "cell_type": "code",
   "execution_count": 1,
   "metadata": {
    "collapsed": true
   },
   "outputs": [],
   "source": [
    "from __future__ import print_function, division"
   ]
  },
  {
   "cell_type": "code",
   "execution_count": 2,
   "metadata": {
    "collapsed": true
   },
   "outputs": [],
   "source": [
    "import sys\n",
    "sys.path.append('..')"
   ]
  },
  {
   "cell_type": "code",
   "execution_count": 3,
   "metadata": {
    "collapsed": true
   },
   "outputs": [],
   "source": [
    "import pandas as pd"
   ]
  },
  {
   "cell_type": "code",
   "execution_count": 4,
   "metadata": {
    "collapsed": true
   },
   "outputs": [],
   "source": [
    "from pummeler.data import geocode_data"
   ]
  },
  {
   "cell_type": "code",
   "execution_count": 5,
   "metadata": {
    "collapsed": false
   },
   "outputs": [],
   "source": [
    "county_region_00 = geocode_data('county_region_00')\n",
    "county_region_10 = geocode_data('county_region_10')"
   ]
  },
  {
   "cell_type": "code",
   "execution_count": 6,
   "metadata": {
    "collapsed": false
   },
   "outputs": [
    {
     "data": {
      "text/html": [
       "<div>\n",
       "<table border=\"1\" class=\"dataframe\">\n",
       "  <thead>\n",
       "    <tr style=\"text-align: right;\">\n",
       "      <th></th>\n",
       "      <th>region</th>\n",
       "    </tr>\n",
       "    <tr>\n",
       "      <th>county</th>\n",
       "      <th></th>\n",
       "    </tr>\n",
       "  </thead>\n",
       "  <tbody>\n",
       "    <tr>\n",
       "      <th>01001</th>\n",
       "      <td>AL_00_16</td>\n",
       "    </tr>\n",
       "    <tr>\n",
       "      <th>01003</th>\n",
       "      <td>AL_00_01</td>\n",
       "    </tr>\n",
       "    <tr>\n",
       "      <th>01005</th>\n",
       "      <td>AL_00_05</td>\n",
       "    </tr>\n",
       "    <tr>\n",
       "      <th>01007</th>\n",
       "      <td>AL_00_02</td>\n",
       "    </tr>\n",
       "    <tr>\n",
       "      <th>01009</th>\n",
       "      <td>AL_00_03</td>\n",
       "    </tr>\n",
       "  </tbody>\n",
       "</table>\n",
       "</div>"
      ],
      "text/plain": [
       "          region\n",
       "county          \n",
       "01001   AL_00_16\n",
       "01003   AL_00_01\n",
       "01005   AL_00_05\n",
       "01007   AL_00_02\n",
       "01009   AL_00_03"
      ]
     },
     "execution_count": 6,
     "metadata": {},
     "output_type": "execute_result"
    }
   ],
   "source": [
    "county_region_00.head()"
   ]
  },
  {
   "cell_type": "code",
   "execution_count": 7,
   "metadata": {
    "collapsed": true
   },
   "outputs": [],
   "source": [
    "counties = set(county_region_00.index)"
   ]
  },
  {
   "cell_type": "code",
   "execution_count": 8,
   "metadata": {
    "collapsed": false
   },
   "outputs": [
    {
     "data": {
      "text/plain": [
       "True"
      ]
     },
     "execution_count": 8,
     "metadata": {},
     "output_type": "execute_result"
    }
   ],
   "source": [
    "counties == set(county_region_10.index)"
   ]
  },
  {
   "cell_type": "code",
   "execution_count": 9,
   "metadata": {
    "collapsed": true
   },
   "outputs": [],
   "source": [
    "from itertools import count\n",
    "\n",
    "def get_CCs(pairs):\n",
    "    A_cc = {}\n",
    "    B_cc = {}\n",
    "    \n",
    "    next_cc = count().next\n",
    "    \n",
    "    for A, B in pairs:\n",
    "        A_id = A_cc.get(A)\n",
    "        B_id = B_cc.get(B)\n",
    "        \n",
    "        if A_id is None:\n",
    "            if B_id is None:\n",
    "                A_cc[A] = B_cc[B] = next_cc()\n",
    "            else:\n",
    "                A_cc[A] = B_id\n",
    "        elif B_id is None:\n",
    "            B_cc[B] = A_id\n",
    "        elif A_id != B_id:\n",
    "            for k, v in A_cc.iteritems():\n",
    "                if v == B_id:\n",
    "                    A_cc[k] = A_id\n",
    "            for k, v in B_cc.iteritems():\n",
    "                if v == B_id:\n",
    "                    B_cc[k] = A_id\n",
    "    \n",
    "    ccs = [(set(), set()) for _ in xrange(next_cc())]\n",
    "    for k, v in A_cc.iteritems():\n",
    "        ccs[v][0].add(k)\n",
    "    for k, v in B_cc.iteritems():\n",
    "        ccs[v][1].add(k)\n",
    "    return [(As, Bs) for As, Bs in ccs if As or Bs]"
   ]
  },
  {
   "cell_type": "code",
   "execution_count": 10,
   "metadata": {
    "collapsed": true
   },
   "outputs": [],
   "source": [
    "from collections import defaultdict\n",
    "from itertools import count\n",
    "\n",
    "def cc_names(ccs, fmt='{}_{}'):\n",
    "    state_counters = defaultdict(lambda: count(1))\n",
    "    names = []\n",
    "    for counties, state_regions in ccs:\n",
    "        st, = {r[:2] for r in state_regions}\n",
    "        i = next(state_counters[st])\n",
    "        names.append(fmt.format(st, i))\n",
    "    return names"
   ]
  },
  {
   "cell_type": "code",
   "execution_count": 11,
   "metadata": {
    "collapsed": true
   },
   "outputs": [],
   "source": [
    "def region_mappings(ccs, cc_names):\n",
    "    assert len(ccs) == len(cc_names)\n",
    "    county_region = []\n",
    "    sub_super = []\n",
    "    for name, (counties, subregions) in zip(cc_names, ccs):        \n",
    "        for c in counties:\n",
    "            county_region.append((c, name))\n",
    "\n",
    "        for r in subregions:\n",
    "            sub_super.append((r, name))\n",
    "    \n",
    "    county_region_df = pd.DataFrame.from_records(\n",
    "        county_region, columns=['county', 'merged_region'], index=['county']).sortlevel()\n",
    "    sub_super_df = pd.DataFrame.from_records(\n",
    "        sub_super, columns=['region', 'merged_region'], index=['region']).sortlevel()\n",
    "    \n",
    "    return county_region_df, sub_super_df"
   ]
  },
  {
   "cell_type": "code",
   "execution_count": 12,
   "metadata": {
    "collapsed": false
   },
   "outputs": [],
   "source": [
    "merged_ccs = get_CCs(\n",
    "    (c, r) for d in [county_region_00, county_region_10]\n",
    "           for c, r in d.region.iteritems())"
   ]
  },
  {
   "cell_type": "code",
   "execution_count": 13,
   "metadata": {
    "collapsed": false
   },
   "outputs": [],
   "source": [
    "merged_cc_names = cc_names(merged_ccs, '{}_merged_{:02}')"
   ]
  },
  {
   "cell_type": "code",
   "execution_count": 14,
   "metadata": {
    "collapsed": false
   },
   "outputs": [],
   "source": [
    "county_superregion, region_superregion = region_mappings(merged_ccs, merged_cc_names)"
   ]
  },
  {
   "cell_type": "code",
   "execution_count": 15,
   "metadata": {
    "collapsed": false
   },
   "outputs": [
    {
     "data": {
      "text/html": [
       "<div>\n",
       "<table border=\"1\" class=\"dataframe\">\n",
       "  <thead>\n",
       "    <tr style=\"text-align: right;\">\n",
       "      <th></th>\n",
       "      <th>merged_region</th>\n",
       "    </tr>\n",
       "    <tr>\n",
       "      <th>county</th>\n",
       "      <th></th>\n",
       "    </tr>\n",
       "  </thead>\n",
       "  <tbody>\n",
       "    <tr>\n",
       "      <th>01001</th>\n",
       "      <td>AL_merged_02</td>\n",
       "    </tr>\n",
       "    <tr>\n",
       "      <th>01003</th>\n",
       "      <td>AL_merged_01</td>\n",
       "    </tr>\n",
       "    <tr>\n",
       "      <th>01005</th>\n",
       "      <td>AL_merged_04</td>\n",
       "    </tr>\n",
       "    <tr>\n",
       "      <th>01007</th>\n",
       "      <td>AL_merged_02</td>\n",
       "    </tr>\n",
       "    <tr>\n",
       "      <th>01009</th>\n",
       "      <td>AL_merged_02</td>\n",
       "    </tr>\n",
       "  </tbody>\n",
       "</table>\n",
       "</div>"
      ],
      "text/plain": [
       "       merged_region\n",
       "county              \n",
       "01001   AL_merged_02\n",
       "01003   AL_merged_01\n",
       "01005   AL_merged_04\n",
       "01007   AL_merged_02\n",
       "01009   AL_merged_02"
      ]
     },
     "execution_count": 15,
     "metadata": {},
     "output_type": "execute_result"
    }
   ],
   "source": [
    "county_superregion.head()"
   ]
  },
  {
   "cell_type": "code",
   "execution_count": 16,
   "metadata": {
    "collapsed": false
   },
   "outputs": [
    {
     "data": {
      "text/html": [
       "<div>\n",
       "<table border=\"1\" class=\"dataframe\">\n",
       "  <thead>\n",
       "    <tr style=\"text-align: right;\">\n",
       "      <th></th>\n",
       "      <th>merged_region</th>\n",
       "    </tr>\n",
       "    <tr>\n",
       "      <th>region</th>\n",
       "      <th></th>\n",
       "    </tr>\n",
       "  </thead>\n",
       "  <tbody>\n",
       "    <tr>\n",
       "      <th>AK_00_01</th>\n",
       "      <td>AK_merged_01</td>\n",
       "    </tr>\n",
       "    <tr>\n",
       "      <th>AK_10_01</th>\n",
       "      <td>AK_merged_01</td>\n",
       "    </tr>\n",
       "    <tr>\n",
       "      <th>AL_00_01</th>\n",
       "      <td>AL_merged_01</td>\n",
       "    </tr>\n",
       "    <tr>\n",
       "      <th>AL_00_02</th>\n",
       "      <td>AL_merged_02</td>\n",
       "    </tr>\n",
       "    <tr>\n",
       "      <th>AL_00_03</th>\n",
       "      <td>AL_merged_02</td>\n",
       "    </tr>\n",
       "  </tbody>\n",
       "</table>\n",
       "</div>"
      ],
      "text/plain": [
       "         merged_region\n",
       "region                \n",
       "AK_00_01  AK_merged_01\n",
       "AK_10_01  AK_merged_01\n",
       "AL_00_01  AL_merged_01\n",
       "AL_00_02  AL_merged_02\n",
       "AL_00_03  AL_merged_02"
      ]
     },
     "execution_count": 16,
     "metadata": {},
     "output_type": "execute_result"
    }
   ],
   "source": [
    "region_superregion.head()"
   ]
  },
  {
   "cell_type": "code",
   "execution_count": 17,
   "metadata": {
    "collapsed": true
   },
   "outputs": [],
   "source": [
    "fn = '../pummeler/data/regions.h5'\n",
    "county_superregion.to_hdf(fn, 'county_superregion', format='table', complib='blosc', complevel=9)\n",
    "region_superregion.to_hdf(fn, 'region_superregion', format='table', complib='blosc', complevel=9)"
   ]
  }
 ],
 "metadata": {
  "kernelspec": {
   "display_name": "Python 2",
   "language": "python",
   "name": "python2"
  },
  "language_info": {
   "codemirror_mode": {
    "name": "ipython",
    "version": 2
   },
   "file_extension": ".py",
   "mimetype": "text/x-python",
   "name": "python",
   "nbconvert_exporter": "python",
   "pygments_lexer": "ipython2",
   "version": "2.7.12"
  }
 },
 "nbformat": 4,
 "nbformat_minor": 0
}
