{
 "cells": [
  {
   "cell_type": "code",
   "execution_count": 1,
   "metadata": {
    "collapsed": true
   },
   "outputs": [],
   "source": [
    "import pandas as pd"
   ]
  },
  {
   "cell_type": "code",
   "execution_count": 2,
   "metadata": {
    "collapsed": true
   },
   "outputs": [],
   "source": [
    "import fiona\n",
    "from shapely.geometry import shape"
   ]
  },
  {
   "cell_type": "code",
   "execution_count": 3,
   "metadata": {
    "collapsed": true
   },
   "outputs": [],
   "source": [
    "import sys\n",
    "sys.path.append('..')"
   ]
  },
  {
   "cell_type": "code",
   "execution_count": 4,
   "metadata": {
    "collapsed": true
   },
   "outputs": [],
   "source": [
    "from pummeler.geocode_data import geocode_data"
   ]
  },
  {
   "cell_type": "code",
   "execution_count": 5,
   "metadata": {
    "collapsed": true
   },
   "outputs": [],
   "source": [
    "county_region_00 = geocode_data('county_region_00').region.to_dict()\n",
    "county_region_10 = geocode_data('county_region_10').region.to_dict()"
   ]
  },
  {
   "cell_type": "code",
   "execution_count": 6,
   "metadata": {
    "collapsed": true
   },
   "outputs": [],
   "source": [
    "from collections import defaultdict"
   ]
  },
  {
   "cell_type": "code",
   "execution_count": 7,
   "metadata": {
    "collapsed": false
   },
   "outputs": [],
   "source": [
    "region_shapes_00 = defaultdict(list)\n",
    "region_shapes_10 = defaultdict(list)\n",
    "\n",
    "for county in fiona.open('UScounties'):\n",
    "    shp = shape(county['geometry'])\n",
    "    fips = county['properties']['FIPS']\n",
    "    if county['properties']['STATE_NAME'] == 'Alaska':\n",
    "        region_shapes_00['AK_00_01'].append(shp)\n",
    "        region_shapes_10['AK_10_01'].append(shp)\n",
    "    else:\n",
    "        region_shapes_00[county_region_00[fips]].append(shp)\n",
    "        region_shapes_10[county_region_10[fips]].append(shp)"
   ]
  },
  {
   "cell_type": "code",
   "execution_count": 8,
   "metadata": {
    "collapsed": true
   },
   "outputs": [],
   "source": [
    "from shapely.ops import cascaded_union"
   ]
  },
  {
   "cell_type": "code",
   "execution_count": 9,
   "metadata": {
    "collapsed": false
   },
   "outputs": [],
   "source": [
    "centroids00 = pd.DataFrame.from_records(\n",
    "    [(k,) + cascaded_union(v).centroid.coords[0] for k, v in region_shapes_00.iteritems()],\n",
    "    columns=['region', 'lon', 'lat'], index='region').sortlevel()\n",
    "centroids10 = pd.DataFrame.from_records(\n",
    "    [(k,) + cascaded_union(v).centroid.coords[0] for k, v in region_shapes_10.iteritems()],\n",
    "    columns=['region', 'lon', 'lat'], index='region').sortlevel()"
   ]
  },
  {
   "cell_type": "code",
   "execution_count": 10,
   "metadata": {
    "collapsed": true
   },
   "outputs": [],
   "source": [
    "fn = '../pummeler/data/regions.h5'\n",
    "centroids00.to_hdf(fn, 'centroids00', format='table', complib='blosc', complevel=9)\n",
    "centroids10.to_hdf(fn, 'centroids10', format='table', complib='blosc', complevel=9)"
   ]
  }
 ],
 "metadata": {
  "kernelspec": {
   "display_name": "Python 2",
   "language": "python",
   "name": "python2"
  },
  "language_info": {
   "codemirror_mode": {
    "name": "ipython",
    "version": 2
   },
   "file_extension": ".py",
   "mimetype": "text/x-python",
   "name": "python",
   "nbconvert_exporter": "python",
   "pygments_lexer": "ipython2",
   "version": "2.7.12"
  }
 },
 "nbformat": 4,
 "nbformat_minor": 0
}
