{
 "cells": [
  {
   "cell_type": "code",
   "execution_count": 1,
   "metadata": {
    "collapsed": true
   },
   "outputs": [],
   "source": [
    "from __future__ import division, print_function\n",
    "from IPython.display import display\n",
    "\n",
    "import numpy as np\n",
    "import pandas as pd\n",
    "\n",
    "%matplotlib inline\n",
    "import matplotlib.pyplot as plt\n",
    "import seaborn as sns"
   ]
  },
  {
   "cell_type": "code",
   "execution_count": 2,
   "metadata": {
    "collapsed": true
   },
   "outputs": [],
   "source": [
    "import os\n",
    "import sys\n",
    "sys.path.append('..')"
   ]
  },
  {
   "cell_type": "code",
   "execution_count": 3,
   "metadata": {
    "collapsed": true
   },
   "outputs": [],
   "source": [
    "from pummeler.data import election_data, centroids_cartesian"
   ]
  },
  {
   "cell_type": "code",
   "execution_count": 89,
   "metadata": {
    "collapsed": false
   },
   "outputs": [],
   "source": [
    "from sklearn import cross_validation as cv, linear_model, metrics\n",
    "import scipy.stats\n",
    "import GPy"
   ]
  },
  {
   "cell_type": "markdown",
   "metadata": {},
   "source": [
    "**NOTE**: the current version of GPy doesn't support Laplace inference with binomial likelihoods! There's [a pull request](https://github.com/SheffieldML/GPy/pull/356). I've merged it into the otherwise-latest GPy, which works enough for what we're doing here, in [my `binomial_laplace_new` branch](https://github.com/dougalsutherland/GPy/tree/binomial_laplace_new):\n",
    "\n",
    "    git clone https://github.com/dougalsutherland/GPy/ -b binomial_laplace_new\n",
    "    cd GPy\n",
    "    python setup.py install"
   ]
  },
  {
   "cell_type": "markdown",
   "metadata": {},
   "source": [
    "### Load data"
   ]
  },
  {
   "cell_type": "markdown",
   "metadata": {},
   "source": [
    "The embeddings:"
   ]
  },
  {
   "cell_type": "code",
   "execution_count": 5,
   "metadata": {
    "collapsed": false
   },
   "outputs": [
    {
     "data": {
      "text/plain": [
       "['emb_lin', 'freqs', 'bandwidth', 'emb_rff', 'region_names', 'feature_names']"
      ]
     },
     "metadata": {},
     "output_type": "display_data"
    }
   ],
   "source": [
    "SORT_DIR = '../SORT_DIR'\n",
    "with np.load(os.path.join(SORT_DIR, 'embeddings.npz') as d:\n",
    "    display(d.keys())\n",
    "    locals().update(**d)"
   ]
  },
  {
   "cell_type": "markdown",
   "metadata": {},
   "source": [
    "The centroids, which we load in 3d Cartesian coordinates (in units of km) so that distances are accurate."
   ]
  },
  {
   "cell_type": "code",
   "execution_count": 6,
   "metadata": {
    "collapsed": false
   },
   "outputs": [],
   "source": [
    "centroids = np.asarray(centroids_cartesian('00').loc[region_names])"
   ]
  },
  {
   "cell_type": "markdown",
   "metadata": {},
   "source": [
    "The paper reported the learned lengthscale in some weird units, so let's start it at \"a little more than half the median distance between locations\"."
   ]
  },
  {
   "cell_type": "code",
   "execution_count": 7,
   "metadata": {
    "collapsed": true
   },
   "outputs": [],
   "source": [
    "from sklearn.metrics.pairwise import euclidean_distances"
   ]
  },
  {
   "cell_type": "code",
   "execution_count": 8,
   "metadata": {
    "collapsed": false
   },
   "outputs": [
    {
     "data": {
      "text/plain": [
       "1090.2906089823362"
      ]
     },
     "execution_count": 8,
     "metadata": {},
     "output_type": "execute_result"
    }
   ],
   "source": [
    "D2 = euclidean_distances(centroids, squared=True)\n",
    "np.sqrt(np.median(D2[np.triu_indices_from(D2, k=1)]))"
   ]
  },
  {
   "cell_type": "code",
   "execution_count": 9,
   "metadata": {
    "collapsed": false
   },
   "outputs": [],
   "source": [
    "election = election_data().loc[region_names]"
   ]
  },
  {
   "cell_type": "code",
   "execution_count": 10,
   "metadata": {
    "collapsed": false
   },
   "outputs": [
    {
     "data": {
      "text/html": [
       "<div>\n",
       "<table border=\"1\" class=\"dataframe\">\n",
       "  <thead>\n",
       "    <tr style=\"text-align: right;\">\n",
       "      <th></th>\n",
       "      <th>votes_D</th>\n",
       "      <th>votes_G</th>\n",
       "      <th>votes_L</th>\n",
       "      <th>votes_R</th>\n",
       "      <th>votes_oth</th>\n",
       "    </tr>\n",
       "    <tr>\n",
       "      <th>region</th>\n",
       "      <th></th>\n",
       "      <th></th>\n",
       "      <th></th>\n",
       "      <th></th>\n",
       "      <th></th>\n",
       "    </tr>\n",
       "  </thead>\n",
       "  <tbody>\n",
       "    <tr>\n",
       "      <th>AK_00_01</th>\n",
       "      <td>122640</td>\n",
       "      <td>2917</td>\n",
       "      <td>7392</td>\n",
       "      <td>164676</td>\n",
       "      <td>2870</td>\n",
       "    </tr>\n",
       "    <tr>\n",
       "      <th>AL_00_01</th>\n",
       "      <td>18424</td>\n",
       "      <td>169</td>\n",
       "      <td>607</td>\n",
       "      <td>66016</td>\n",
       "      <td>275</td>\n",
       "    </tr>\n",
       "    <tr>\n",
       "      <th>AL_00_02</th>\n",
       "      <td>75150</td>\n",
       "      <td>116</td>\n",
       "      <td>301</td>\n",
       "      <td>62561</td>\n",
       "      <td>227</td>\n",
       "    </tr>\n",
       "    <tr>\n",
       "      <th>AL_00_03</th>\n",
       "      <td>15328</td>\n",
       "      <td>175</td>\n",
       "      <td>536</td>\n",
       "      <td>71439</td>\n",
       "      <td>402</td>\n",
       "    </tr>\n",
       "    <tr>\n",
       "      <th>AL_00_04</th>\n",
       "      <td>37374</td>\n",
       "      <td>211</td>\n",
       "      <td>631</td>\n",
       "      <td>74343</td>\n",
       "      <td>432</td>\n",
       "    </tr>\n",
       "  </tbody>\n",
       "</table>\n",
       "</div>"
      ],
      "text/plain": [
       "          votes_D  votes_G  votes_L  votes_R  votes_oth\n",
       "region                                                 \n",
       "AK_00_01   122640     2917     7392   164676       2870\n",
       "AL_00_01    18424      169      607    66016        275\n",
       "AL_00_02    75150      116      301    62561        227\n",
       "AL_00_03    15328      175      536    71439        402\n",
       "AL_00_04    37374      211      631    74343        432"
      ]
     },
     "execution_count": 10,
     "metadata": {},
     "output_type": "execute_result"
    }
   ],
   "source": [
    "election.head()"
   ]
  },
  {
   "cell_type": "markdown",
   "metadata": {},
   "source": [
    "Ignore third-party votes; `n` is number of votes, `y` is number Democratic."
   ]
  },
  {
   "cell_type": "code",
   "execution_count": 11,
   "metadata": {
    "collapsed": false
   },
   "outputs": [],
   "source": [
    "n = np.asarray(election.votes_D + election.votes_R)\n",
    "y = np.asarray(election.votes_D)"
   ]
  },
  {
   "cell_type": "code",
   "execution_count": 12,
   "metadata": {
    "collapsed": true
   },
   "outputs": [],
   "source": [
    "X_lin = np.hstack([emb_lin, centroids])\n",
    "X_rff = np.hstack([emb_rff, centroids])"
   ]
  },
  {
   "cell_type": "code",
   "execution_count": 13,
   "metadata": {
    "collapsed": true
   },
   "outputs": [],
   "source": [
    "n_regions = len(region_names)\n",
    "n_feats = len(feature_names)\n",
    "n_rff = emb_rff.shape[1]"
   ]
  },
  {
   "cell_type": "markdown",
   "metadata": {},
   "source": [
    "## Try out the model"
   ]
  },
  {
   "cell_type": "markdown",
   "metadata": {},
   "source": [
    "Just do a single train/test split for right now."
   ]
  },
  {
   "cell_type": "code",
   "execution_count": 14,
   "metadata": {
    "collapsed": true
   },
   "outputs": [],
   "source": [
    "train, test = next(iter(cv.ShuffleSplit(\n",
    "            n_regions, test_size=.1, random_state=10)))"
   ]
  },
  {
   "cell_type": "markdown",
   "metadata": {},
   "source": [
    "### Linear embeddings"
   ]
  },
  {
   "cell_type": "markdown",
   "metadata": {},
   "source": [
    "Here's the model using linear embeddings (i.e. feature means), along with the Matérn kernel on centroids, with hyperparameters more or less what the paper said worked well:"
   ]
  },
  {
   "cell_type": "code",
   "execution_count": 15,
   "metadata": {
    "collapsed": false
   },
   "outputs": [
    {
     "name": "stderr",
     "output_type": "stream",
     "text": [
      " /usr/local/anaconda/lib/python2.7/site-packages/GPy-1.0.9-py2.7-macosx-10.6-x86_64.egg/GPy/inference/latent_function_inference/laplace.py:225: UserWarning:Not perfect mode found (f_hat). difference: 207.929438715, iteration: 30 out of max 30\n"
     ]
    }
   ],
   "source": [
    "m_lin = GPy.core.GP(\n",
    "    X_lin[train], y[train, np.newaxis],\n",
    "    kernel=\n",
    "        GPy.kern.Linear(\n",
    "            n_feats, variances=4.56,\n",
    "            active_dims=range(0, n_feats))\n",
    "        + GPy.kern.Matern32(\n",
    "            3, variance=0.18, lengthscale=560,\n",
    "            active_dims=range(n_feats, n_feats + 3)),\n",
    "    likelihood=GPy.likelihoods.Binomial(),\n",
    "    Y_metadata={'trials': n[train, np.newaxis]},\n",
    "    inference_method=GPy.inference.latent_function_inference.Laplace(),\n",
    ")"
   ]
  },
  {
   "cell_type": "code",
   "execution_count": 16,
   "metadata": {
    "collapsed": false
   },
   "outputs": [
    {
     "data": {
      "text/html": [
       "<style type=\"text/css\">\n",
       ".pd{\n",
       "    font-family: \"Courier New\", Courier, monospace !important;\n",
       "    width: 100%;\n",
       "    padding: 3px;\n",
       "}\n",
       "</style>\n",
       "\n",
       "<p class=pd>\n",
       "<b>Model</b>: gp<br>\n",
       "<b>Objective</b>: 24446.7904359<br>\n",
       "<b>Number of Parameters</b>: 3<br>\n",
       "<b>Number of Optimization Parameters</b>: 3<br>\n",
       "<b>Updates</b>: True<br>\n",
       "</p>\n",
       "<style type=\"text/css\">\n",
       ".tg  {font-family:\"Courier New\", Courier, monospace !important;padding:2px 3px;word-break:normal;border-collapse:collapse;border-spacing:0;border-color:#DCDCDC;margin:0px auto;width:100%;}\n",
       ".tg td{font-family:\"Courier New\", Courier, monospace !important;font-weight:bold;color:#444;background-color:#F7FDFA;border-style:solid;border-width:1px;overflow:hidden;word-break:normal;border-color:#DCDCDC;}\n",
       ".tg th{font-family:\"Courier New\", Courier, monospace !important;font-weight:normal;color:#fff;background-color:#26ADE4;border-style:solid;border-width:1px;overflow:hidden;word-break:normal;border-color:#DCDCDC;}\n",
       ".tg .tg-left{font-family:\"Courier New\", Courier, monospace !important;font-weight:normal;text-align:left;}\n",
       ".tg .tg-center{font-family:\"Courier New\", Courier, monospace !important;font-weight:normal;text-align:center;}\n",
       ".tg .tg-right{font-family:\"Courier New\", Courier, monospace !important;font-weight:normal;text-align:right;}\n",
       "</style>\n",
       "<table class=\"tg\"><tr><th><b>  gp.                  </b></th><th><b>value</b></th><th><b>constraints</b></th><th><b>priors</b></th></tr>\n",
       "<tr><td class=tg-left>  sum.linear.variances </td><td class=tg-right> 4.56</td><td class=tg-center>    +ve    </td><td class=tg-center>      </td></tr>\n",
       "<tr><td class=tg-left>  sum.Mat32.variance   </td><td class=tg-right> 0.18</td><td class=tg-center>    +ve    </td><td class=tg-center>      </td></tr>\n",
       "<tr><td class=tg-left>  sum.Mat32.lengthscale</td><td class=tg-right>560.0</td><td class=tg-center>    +ve    </td><td class=tg-center>      </td></tr>\n",
       "</table>"
      ],
      "text/plain": [
       "<GPy.core.gp.GP at 0x12908c090>"
      ]
     },
     "execution_count": 16,
     "metadata": {},
     "output_type": "execute_result"
    }
   ],
   "source": [
    "m_lin"
   ]
  },
  {
   "cell_type": "code",
   "execution_count": 17,
   "metadata": {
    "collapsed": true
   },
   "outputs": [],
   "source": [
    "def eval_preds(phat):\n",
    "    plt.plot([0, 1], [0, 1], color='r')\n",
    "    plt.scatter(y[test] / n[test], phat.squeeze())\n",
    "    plt.xlim(0, 1)\n",
    "    plt.ylim(0, 1)\n",
    "\n",
    "    return metrics.explained_variance_score(y[test] / n[test], phat)"
   ]
  },
  {
   "cell_type": "code",
   "execution_count": 23,
   "metadata": {
    "collapsed": false,
    "scrolled": false
   },
   "outputs": [
    {
     "data": {
      "text/plain": [
       "0.89288486470236583"
      ]
     },
     "execution_count": 23,
     "metadata": {},
     "output_type": "execute_result"
    },
    {
     "data": {
      "image/png": "[encoded data removed]",
      "text/plain": [
       "<matplotlib.figure.Figure at 0x11f7e7a90>"
      ]
     },
     "metadata": {},
     "output_type": "display_data"
    }
   ],
   "source": [
    "f, fstd = m_lin._raw_predict(X_lin[test])\n",
    "phat = scipy.stats.norm.cdf(f.squeeze())\n",
    "eval_preds(phat)"
   ]
  },
  {
   "cell_type": "markdown",
   "metadata": {},
   "source": [
    "Predictions are pretty good. We can try optimizing it, see if that helps at all:"
   ]
  },
  {
   "cell_type": "code",
   "execution_count": 24,
   "metadata": {
    "collapsed": false,
    "scrolled": true
   },
   "outputs": [
    {
     "name": "stderr",
     "output_type": "stream",
     "text": [
      " /usr/local/anaconda/lib/python2.7/site-packages/GPy-1.0.9-py2.7-macosx-10.6-x86_64.egg/GPy/inference/latent_function_inference/laplace.py:229: UserWarning:f_hat now fine again. difference: 5.05701755174e-05, iteration: 4 out of max 30\n",
      " /usr/local/anaconda/lib/python2.7/site-packages/GPy-1.0.9-py2.7-macosx-10.6-x86_64.egg/GPy/inference/latent_function_inference/laplace.py:225: UserWarning:Not perfect mode found (f_hat). difference: 2.07836337076, iteration: 30 out of max 30\n",
      " /usr/local/anaconda/lib/python2.7/site-packages/GPy-1.0.9-py2.7-macosx-10.6-x86_64.egg/GPy/inference/latent_function_inference/laplace.py:229: UserWarning:f_hat now fine again. difference: 2.15533873416e-07, iteration: 14 out of max 30\n",
      " /usr/local/anaconda/lib/python2.7/site-packages/GPy-1.0.9-py2.7-macosx-10.6-x86_64.egg/GPy/inference/latent_function_inference/laplace.py:225: UserWarning:Not perfect mode found (f_hat). difference: 0.00392608354468, iteration: 30 out of max 30\n",
      " /usr/local/anaconda/lib/python2.7/site-packages/GPy-1.0.9-py2.7-macosx-10.6-x86_64.egg/GPy/inference/latent_function_inference/laplace.py:229: UserWarning:f_hat now fine again. difference: 3.26903927999e-05, iteration: 17 out of max 30\n",
      " /usr/local/anaconda/lib/python2.7/site-packages/GPy-1.0.9-py2.7-macosx-10.6-x86_64.egg/GPy/inference/latent_function_inference/laplace.py:229: UserWarning:f_hat now fine again. difference: 3.12667725666e-05, iteration: 17 out of max 30\n",
      " /usr/local/anaconda/lib/python2.7/site-packages/GPy-1.0.9-py2.7-macosx-10.6-x86_64.egg/GPy/inference/latent_function_inference/laplace.py:225: UserWarning:Not perfect mode found (f_hat). difference: 10.651530114, iteration: 30 out of max 30\n"
     ]
    }
   ],
   "source": [
    "m_lin.optimize()"
   ]
  },
  {
   "cell_type": "code",
   "execution_count": 25,
   "metadata": {
    "collapsed": false
   },
   "outputs": [
    {
     "data": {
      "text/html": [
       "<style type=\"text/css\">\n",
       ".pd{\n",
       "    font-family: \"Courier New\", Courier, monospace !important;\n",
       "    width: 100%;\n",
       "    padding: 3px;\n",
       "}\n",
       "</style>\n",
       "\n",
       "<p class=pd>\n",
       "<b>Model</b>: gp<br>\n",
       "<b>Objective</b>: 7965.33062611<br>\n",
       "<b>Number of Parameters</b>: 3<br>\n",
       "<b>Number of Optimization Parameters</b>: 3<br>\n",
       "<b>Updates</b>: True<br>\n",
       "</p>\n",
       "<style type=\"text/css\">\n",
       ".tg  {font-family:\"Courier New\", Courier, monospace !important;padding:2px 3px;word-break:normal;border-collapse:collapse;border-spacing:0;border-color:#DCDCDC;margin:0px auto;width:100%;}\n",
       ".tg td{font-family:\"Courier New\", Courier, monospace !important;font-weight:bold;color:#444;background-color:#F7FDFA;border-style:solid;border-width:1px;overflow:hidden;word-break:normal;border-color:#DCDCDC;}\n",
       ".tg th{font-family:\"Courier New\", Courier, monospace !important;font-weight:normal;color:#fff;background-color:#26ADE4;border-style:solid;border-width:1px;overflow:hidden;word-break:normal;border-color:#DCDCDC;}\n",
       ".tg .tg-left{font-family:\"Courier New\", Courier, monospace !important;font-weight:normal;text-align:left;}\n",
       ".tg .tg-center{font-family:\"Courier New\", Courier, monospace !important;font-weight:normal;text-align:center;}\n",
       ".tg .tg-right{font-family:\"Courier New\", Courier, monospace !important;font-weight:normal;text-align:right;}\n",
       "</style>\n",
       "<table class=\"tg\"><tr><th><b>  gp.                  </b></th><th><b>         value</b></th><th><b>constraints</b></th><th><b>priors</b></th></tr>\n",
       "<tr><td class=tg-left>  sum.linear.variances </td><td class=tg-right> 3.62253710608</td><td class=tg-center>    +ve    </td><td class=tg-center>      </td></tr>\n",
       "<tr><td class=tg-left>  sum.Mat32.variance   </td><td class=tg-right>0.136401266784</td><td class=tg-center>    +ve    </td><td class=tg-center>      </td></tr>\n",
       "<tr><td class=tg-left>  sum.Mat32.lengthscale</td><td class=tg-right>  560.00075348</td><td class=tg-center>    +ve    </td><td class=tg-center>      </td></tr>\n",
       "</table>"
      ],
      "text/plain": [
       "<GPy.core.gp.GP at 0x12908c090>"
      ]
     },
     "execution_count": 25,
     "metadata": {},
     "output_type": "execute_result"
    }
   ],
   "source": [
    "m_lin"
   ]
  },
  {
   "cell_type": "code",
   "execution_count": 26,
   "metadata": {
    "collapsed": false
   },
   "outputs": [
    {
     "data": {
      "text/plain": [
       "0.88431398469567279"
      ]
     },
     "execution_count": 26,
     "metadata": {},
     "output_type": "execute_result"
    },
    {
     "data": {
      "image/png": "[encoded data removed]",
      "text/plain": [
       "<matplotlib.figure.Figure at 0x116ea1fd0>"
      ]
     },
     "metadata": {},
     "output_type": "display_data"
    }
   ],
   "source": [
    "f, fstd = m_lin._raw_predict(X_lin[test])\n",
    "phat = scipy.stats.norm.cdf(f.squeeze())\n",
    "eval_preds(phat)"
   ]
  },
  {
   "cell_type": "markdown",
   "metadata": {},
   "source": [
    "...the same."
   ]
  },
  {
   "cell_type": "markdown",
   "metadata": {},
   "source": [
    "### Ridge regression"
   ]
  },
  {
   "cell_type": "markdown",
   "metadata": {},
   "source": [
    "Of course, linear-kernel GPs are just ridge regression. If we drop the spatial kernel, we can investigate the importance of different features:"
   ]
  },
  {
   "cell_type": "code",
   "execution_count": 43,
   "metadata": {
    "collapsed": false
   },
   "outputs": [
    {
     "data": {
      "text/plain": [
       "0.84915614480653812"
      ]
     },
     "execution_count": 43,
     "metadata": {},
     "output_type": "execute_result"
    },
    {
     "data": {
      "image/png": "[encoded data removed]",
      "text/plain": [
       "<matplotlib.figure.Figure at 0x123a28750>"
      ]
     },
     "metadata": {},
     "output_type": "display_data"
    }
   ],
   "source": [
    "ridge = linear_model.RidgeCV()\n",
    "ridge.fit(X_lin[train], y[train] / n[train])\n",
    "ridge_phat = ridge.predict(X_lin[test])\n",
    "eval_preds(ridge_phat)"
   ]
  },
  {
   "cell_type": "code",
   "execution_count": 71,
   "metadata": {
    "collapsed": false
   },
   "outputs": [
    {
     "name": "stdout",
     "output_type": "stream",
     "text": [
      "         RELP_0   0.279\n",
      "          MAR_1  -0.242\n",
      "         HISP_1  -0.2247\n",
      "          MAR_5   0.2217\n",
      "        MSP_6.0   0.2217\n",
      "        POBP_19   0.2188\n",
      " POWPUMA_6500.0   0.2176\n",
      "        MSP_1.0  -0.2102\n",
      "       ANC1P_32  -0.1976\n",
      "      POWSP_2.0  -0.1975\n",
      "       ANC1P_82   0.1959\n",
      "       ANC1P_21  -0.1936\n",
      " MIGPUMA_2090.0  -0.1905\n",
      "      POWSP_6.0   0.1896\n",
      "      SCHL_14.0   0.1727\n",
      "        POBP_24  -0.1667\n",
      "     LANP_625.0   0.1655\n",
      "        GCL_2.0   0.1647\n",
      "        HISP_24   0.1645\n"
     ]
    }
   ],
   "source": [
    "w = np.abs(ridge.coef_).argsort()[:-20:-1]\n",
    "for f, wt in zip(feature_names[w], ridge.coef_[w]):\n",
    "    print('{:>15}  {: .4}'.format(f, wt))"
   ]
  },
  {
   "cell_type": "markdown",
   "metadata": {},
   "source": [
    "- `RELP_0` shouldn't happen according to [the documentation](http://www2.census.gov/programs-surveys/acs/tech_docs/pums/data_dict/PUMS_Data_Dictionary_2006-2010.pdf). Dunno what that means.\n",
    "- `MAR_1` means \"married.\"\n",
    "- `HISP_1` means \"not Hispanic.\"\n",
    "- `MAR_5` means \"never married.\"\n",
    "- `MSP_6.0` also means \"never married.\"\n",
    "- `POBP_19` means \"born in Iowa.\"\n",
    "- `POWPUMA_6500.0` means you work in either a specific place in California or a specific place in Texas....\n",
    "- `MSP_1.0` means \"now married, spouse present.\"\n",
    "- `ANC1P_32` means German ancestry, listed first.\n",
    "- `POWSP_2.0` means \"works in Alaska\".\n",
    "- `ANC1P_82` means Norwegian ancestry, listed first.\n",
    "- `ANC1P_21` is Dutch."
   ]
  },
  {
   "cell_type": "markdown",
   "metadata": {},
   "source": [
    "### Avoiding referencing specific locations"
   ]
  },
  {
   "cell_type": "markdown",
   "metadata": {},
   "source": [
    "Note that several of those refer to specific places (`POWPUMA` refers to working in a specific area; `POWSP_6.0` refers to a person who works in California; etc). We might try to avoid that:"
   ]
  },
  {
   "cell_type": "code",
   "execution_count": 42,
   "metadata": {
    "collapsed": false
   },
   "outputs": [
    {
     "data": {
      "text/plain": [
       "0.81360980824944207"
      ]
     },
     "execution_count": 42,
     "metadata": {},
     "output_type": "execute_result"
    },
    {
     "data": {
      "image/png": "[encoded data removed]",
      "text/plain": [
       "<matplotlib.figure.Figure at 0x136bb11d0>"
      ]
     },
     "metadata": {},
     "output_type": "display_data"
    }
   ],
   "source": [
    "no_us_places = np.array([\n",
    "    not (s.startswith('POBP_') or s.startswith('RELP_')\n",
    "         or s.startswith('POWPUMA_') or s.startswith('POWSP')\n",
    "         or s.startswith('MIGSP_') or s.startswith('MIGPUMA_'))\n",
    "    for s in feature_names\n",
    "])\n",
    "ridge2 = linear_model.RidgeCV()\n",
    "ridge2.fit(X_lin[np.ix_(train, no_us_places)], y[train] / n[train])\n",
    "ridge2_phat = ridge2.predict(X_lin[np.ix_(test, no_us_places)])\n",
    "eval_preds(ridge2_phat)"
   ]
  },
  {
   "cell_type": "markdown",
   "metadata": {},
   "source": [
    "Hurts a little, but not much."
   ]
  },
  {
   "cell_type": "code",
   "execution_count": 68,
   "metadata": {
    "collapsed": false
   },
   "outputs": [
    {
     "name": "stdout",
     "output_type": "stream",
     "text": [
      "        GCL_2.0   0.491\n",
      "           WKHP  -0.4464\n",
      "        GCL_nan  -0.3558\n",
      "       SCHG_4.0  -0.3353\n",
      "     LANP_966.0   0.3153\n",
      "          MAR_5   0.3153\n",
      "        ANC1P_5  -0.2868\n",
      "          MAR_1  -0.2656\n",
      "       SCHG_7.0   0.2326\n",
      "      ANC1P_904   0.2236\n",
      "     LANP_864.0  -0.2198\n",
      "       ANC1P_12   0.216\n",
      "        RELP_13  -0.2109\n",
      "       SCHG_5.0   0.2087\n",
      "      ANC2P_822  -0.2054\n",
      "      ANC1P_899  -0.1942\n",
      " naicsp02_32621  -0.1866\n",
      "    indp02_9780  -0.1866\n",
      "     indp07_nan   0.1842\n"
     ]
    }
   ],
   "source": [
    "w = np.abs(ridge2.coef_).argsort()[:-20:-1]\n",
    "for f, wt in zip(feature_names[w], ridge2.coef_[w]):\n",
    "    print('{:>15}  {: .4}'.format(f, wt))"
   ]
  },
  {
   "cell_type": "markdown",
   "metadata": {},
   "source": [
    "- `GCL_2.0` indicates that the person is not a grandparent living with their grandchildren.\n",
    "- `WKHP` is the number of hours worked per week over the last year.\n",
    "- `GCL_nan` that either the person being referenced is under 30 or the household is an institution of some kind.\n",
    "- `SCHG_4.0` indicates that the person is currently in middle school. (Remember that people under 18 are not in this dataset, so this is a rare feature.)\n",
    "- `LANP_966.0` means that an American Indian language (other than Apache, \"Navaho\", Dakota, Keres, Cherokee, or Zuni) is spoken at home.\n",
    "- `MAR_5` means \"never married\".\n",
    "- `ANC1P_5` refers to Basque ancestry.\n",
    "- `MAR_1` means \"married\".\n",
    "- `SCHG_7.0` is people currently in graduate or professional school.\n",
    "- `ANC1P_904` is \"Negro\" ancestry. (Note that \"Afro American\", \"Afro\", \"African American\", \"Black\" are also options.)\n",
    "- `LANP_864.0` means \"Navaho\" is spoken at home.\n",
    "- `ANC1P_12` is \"British Isles\" ancestry (\"British\" is also an option)."
   ]
  },
  {
   "cell_type": "markdown",
   "metadata": {},
   "source": [
    "### Random Fourier feature embeddings"
   ]
  },
  {
   "cell_type": "code",
   "execution_count": 84,
   "metadata": {
    "collapsed": false
   },
   "outputs": [
    {
     "name": "stderr",
     "output_type": "stream",
     "text": [
      " /usr/local/anaconda/lib/python2.7/site-packages/GPy-1.0.9-py2.7-macosx-10.6-x86_64.egg/GPy/inference/latent_function_inference/laplace.py:225: UserWarning:Not perfect mode found (f_hat). difference: 0.000293246681395, iteration: 30 out of max 30\n"
     ]
    }
   ],
   "source": [
    "m_rff = GPy.core.GP(\n",
    "    X_rff[train], y[train, np.newaxis],\n",
    "    kernel=\n",
    "        GPy.kern.Linear(\n",
    "            n_rff, variances=4.56,\n",
    "            active_dims=range(0, n_rff))\n",
    "        + GPy.kern.Matern32(\n",
    "            3, variance=0.18, lengthscale=560,\n",
    "            active_dims=range(n_rff, n_rff + 3)),\n",
    "    likelihood=GPy.likelihoods.Binomial(),\n",
    "    Y_metadata={'trials': n[train, np.newaxis]},\n",
    "    inference_method=GPy.inference.latent_function_inference.Laplace(),\n",
    ")"
   ]
  },
  {
   "cell_type": "code",
   "execution_count": 85,
   "metadata": {
    "collapsed": true
   },
   "outputs": [],
   "source": [
    "m_rff.optimize()"
   ]
  },
  {
   "cell_type": "code",
   "execution_count": 91,
   "metadata": {
    "collapsed": false
   },
   "outputs": [
    {
     "data": {
      "text/html": [
       "<style type=\"text/css\">\n",
       ".pd{\n",
       "    font-family: \"Courier New\", Courier, monospace !important;\n",
       "    width: 100%;\n",
       "    padding: 3px;\n",
       "}\n",
       "</style>\n",
       "\n",
       "<p class=pd>\n",
       "<b>Model</b>: gp<br>\n",
       "<b>Objective</b>: 10014.7173089<br>\n",
       "<b>Number of Parameters</b>: 3<br>\n",
       "<b>Number of Optimization Parameters</b>: 3<br>\n",
       "<b>Updates</b>: True<br>\n",
       "</p>\n",
       "<style type=\"text/css\">\n",
       ".tg  {font-family:\"Courier New\", Courier, monospace !important;padding:2px 3px;word-break:normal;border-collapse:collapse;border-spacing:0;border-color:#DCDCDC;margin:0px auto;width:100%;}\n",
       ".tg td{font-family:\"Courier New\", Courier, monospace !important;font-weight:bold;color:#444;background-color:#F7FDFA;border-style:solid;border-width:1px;overflow:hidden;word-break:normal;border-color:#DCDCDC;}\n",
       ".tg th{font-family:\"Courier New\", Courier, monospace !important;font-weight:normal;color:#fff;background-color:#26ADE4;border-style:solid;border-width:1px;overflow:hidden;word-break:normal;border-color:#DCDCDC;}\n",
       ".tg .tg-left{font-family:\"Courier New\", Courier, monospace !important;font-weight:normal;text-align:left;}\n",
       ".tg .tg-center{font-family:\"Courier New\", Courier, monospace !important;font-weight:normal;text-align:center;}\n",
       ".tg .tg-right{font-family:\"Courier New\", Courier, monospace !important;font-weight:normal;text-align:right;}\n",
       "</style>\n",
       "<table class=\"tg\"><tr><th><b>  gp.                  </b></th><th><b>value</b></th><th><b>constraints</b></th><th><b>priors</b></th></tr>\n",
       "<tr><td class=tg-left>  sum.linear.variances </td><td class=tg-right> 4.56</td><td class=tg-center>    +ve    </td><td class=tg-center>      </td></tr>\n",
       "<tr><td class=tg-left>  sum.Mat32.variance   </td><td class=tg-right> 0.18</td><td class=tg-center>    +ve    </td><td class=tg-center>      </td></tr>\n",
       "<tr><td class=tg-left>  sum.Mat32.lengthscale</td><td class=tg-right>560.0</td><td class=tg-center>    +ve    </td><td class=tg-center>      </td></tr>\n",
       "</table>"
      ],
      "text/plain": [
       "<GPy.core.gp.GP at 0x12908c850>"
      ]
     },
     "execution_count": 91,
     "metadata": {},
     "output_type": "execute_result"
    }
   ],
   "source": [
    "m_rff"
   ]
  },
  {
   "cell_type": "code",
   "execution_count": 94,
   "metadata": {
    "collapsed": false
   },
   "outputs": [
    {
     "data": {
      "text/plain": [
       "0.85751220633828462"
      ]
     },
     "execution_count": 94,
     "metadata": {},
     "output_type": "execute_result"
    },
    {
     "data": {
      "image/png": "[encoded data removed]",
      "text/plain": [
       "<matplotlib.figure.Figure at 0x136f268d0>"
      ]
     },
     "metadata": {},
     "output_type": "display_data"
    }
   ],
   "source": [
    "f, fstd = m_rff._raw_predict(X_rff[test])\n",
    "phat = scipy.stats.norm.cdf(f.squeeze())\n",
    "eval_preds(phat)"
   ]
  },
  {
   "cell_type": "markdown",
   "metadata": {},
   "source": [
    "About the same as, maybe slightly worse than, the straight linear embeddings..."
   ]
  }
 ],
 "metadata": {
  "kernelspec": {
   "display_name": "Python 2",
   "language": "python",
   "name": "python2"
  },
  "language_info": {
   "codemirror_mode": {
    "name": "ipython",
    "version": 2
   },
   "file_extension": ".py",
   "mimetype": "text/x-python",
   "name": "python",
   "nbconvert_exporter": "python",
   "pygments_lexer": "ipython2",
   "version": "2.7.12"
  }
 },
 "nbformat": 4,
 "nbformat_minor": 0
}
